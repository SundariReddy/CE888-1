{
  "nbformat": 4,
  "nbformat_minor": 0,
  "metadata": {
    "colab": {
      "name": "bootstrap.ipynb",
      "provenance": [],
      "include_colab_link": true
    },
    "kernelspec": {
      "display_name": "Python 3",
      "language": "python",
      "name": "python3"
    },
    "language_info": {
      "codemirror_mode": {
        "name": "ipython",
        "version": 3
      },
      "file_extension": ".py",
      "mimetype": "text/x-python",
      "name": "python",
      "nbconvert_exporter": "python",
      "pygments_lexer": "ipython3",
      "version": "3.7.6"
    },
    "pycharm": {
      "stem_cell": {
        "cell_type": "raw",
        "metadata": {
          "collapsed": false
        },
        "source": []
      }
    }
  },
  "cells": [
    {
      "cell_type": "markdown",
      "metadata": {
        "id": "view-in-github",
        "colab_type": "text"
      },
      "source": [
        "<a href=\"https://colab.research.google.com/github/SundariReddy/CE888-1/blob/master/lab2%20-%20bootstrap/bootstrap.ipynb\" target=\"_parent\"><img src=\"https://colab.research.google.com/assets/colab-badge.svg\" alt=\"Open In Colab\"/></a>"
      ]
    },
    {
      "cell_type": "markdown",
      "metadata": {
        "id": "nCi_99yMYIb1"
      },
      "source": [
        "In this notebook you'll create your own bootstrap function following the bootstrap algorithm (check the lecture notes!)"
      ]
    },
    {
      "cell_type": "code",
      "metadata": {
        "id": "LY5zujI2YC37",
        "pycharm": {
          "name": "#%%# Imports\n"
        }
      },
      "source": [
        "import matplotlib\n",
        "import pandas as pd\n",
        "import seaborn as sns\n",
        "import numpy as np\n",
        "\n"
      ],
      "execution_count": 16,
      "outputs": []
    },
    {
      "cell_type": "code",
      "metadata": {
        "id": "Eqkwj4SMY38t"
      },
      "source": [
        "# Load the data\n",
        "df = pd.read_csv('https://raw.githubusercontent.com/albanda/CE888/master/lab2%20-%20bootstrap/customers.csv')\n",
        "all_data_customer = df.values.T[1]"
      ],
      "execution_count": 19,
      "outputs": []
    },
    {
      "cell_type": "code",
      "source": [
        "print(df.shape)\n",
        "print(all_data_customer)"
      ],
      "metadata": {
        "colab": {
          "base_uri": "https://localhost:8080/"
        },
        "id": "NjfVTpfJodkY",
        "outputId": "19e06a56-c1cc-461b-9531-f58a54c94f49"
      },
      "execution_count": 20,
      "outputs": [
        {
          "output_type": "stream",
          "name": "stdout",
          "text": [
            "(14, 2)\n",
            "[ 2.  8. 20. 13.  5.  9. 10.  8. 22. 10.  2.  4.  7.  9.]\n"
          ]
        }
      ]
    },
    {
      "cell_type": "code",
      "source": [
        "sample_size = 10\n",
        "n_bootstraps = 5\n",
        "\n",
        "d_array = np.random.choice(all_data_customer,size=(n_bootstraps,sample_size))\n",
        "print(\"arrays -----\")\n",
        "print(d_array)\n",
        "\n",
        "# d_mean_arr = d_array.nanmean(axis = 1)\n",
        "d_mean_arr = np.nanmean(d_array, axis=1)\n",
        "print(\"individual means - \")\n",
        "print(d_mean_arr)\n",
        "\n",
        "d_mean_arr = d_array.mean(axis=1)\n",
        "print(\"individual means - \")\n",
        "print(d_mean_arr)\n",
        "\n",
        "d_mean_arr_sort = np.sort(d_mean_arr)\n",
        "print(\"sorted array of means - \", d_mean_arr_sort)\n",
        "\n",
        "print(\"data mean - \", np.mean(d_mean_arr_sort))\n",
        "\n",
        "print(np.percentile(d_mean_arr_sort, 2.5),np.percentile(d_mean_arr_sort, 97.5))\n",
        "print(np.percentile(d_mean_arr_sort, 10),np.percentile(d_mean_arr_sort, 90.0))"
      ],
      "metadata": {
        "colab": {
          "base_uri": "https://localhost:8080/"
        },
        "id": "_H0h4TLCo2Zf",
        "outputId": "7cd06e8b-e554-4227-ea0e-57011b75fc70"
      },
      "execution_count": 21,
      "outputs": [
        {
          "output_type": "stream",
          "name": "stdout",
          "text": [
            "arrays -----\n",
            "[[ 8.  7.  9.  4.  8.  9.  8.  2. 22.  2.]\n",
            " [ 9.  4.  5.  5.  8. 20.  8.  4. 10.  2.]\n",
            " [22.  2.  9.  7. 13.  2.  8. 10.  7.  9.]\n",
            " [ 8.  8. 10.  5. 22. 13. 13.  9.  9. 10.]\n",
            " [ 4. 13.  2. 10.  7.  8.  9. 22.  8.  9.]]\n",
            "individual means - \n",
            "[ 7.9  7.5  8.9 10.7  9.2]\n",
            "individual means - \n",
            "[ 7.9  7.5  8.9 10.7  9.2]\n",
            "sorted array of means -  [ 7.5  7.9  8.9  9.2 10.7]\n",
            "data mean -  8.84\n",
            "7.54 10.549999999999999\n",
            "7.66 10.1\n"
          ]
        }
      ]
    },
    {
      "cell_type": "code",
      "metadata": {
        "id": "Gxvc_bScYC4H",
        "pycharm": {
          "name": "#%%\n"
        }
      },
      "source": [
        "# Checking the notes from the lecture, create here your own bootstrap function:\n",
        "# 1. Sample from the input array x to create an array of samples of shape (n_bootstraps, sample_size)\n",
        "# Hint: Check the function random.choice() on Numpy\n",
        "# 2. Calculate and save the mean of the array (this is \"data_mean\" that is returned by the function)\n",
        "# 3. Calculate the mean from each bootstrap (i.e., row) and store it.\n",
        "# (This should be an array of n_bootstraps values)\n",
        "# 4. Calculate the lower and upper bounds for a 95% CI (hint: check the percentile function on Numpy)\n",
        "# 5. Return data_mean, and the lower and upper bounds of your interval\n",
        "def bootstrap_mean(x, sample_size, n_bootstraps):\n",
        "\t# <---INSERT YOUR CODE HERE--->\n",
        "\td_array = np.random.choice(x,size=(n_bootstraps,sample_size))\n",
        "\td_mean_arr = d_array.mean(axis = 1)\n",
        "\td_mean_arr_sort = np.sort(d_mean_arr)\n",
        "\tdata_mean = np.mean(d_mean_arr_sort)\n",
        "\tlower = np.percentile(d_mean_arr_sort, 2.5)\n",
        "\tupper = np.percentile(d_mean_arr_sort, 97.5)\n",
        "\treturn data_mean, lower, upper\n"
      ],
      "execution_count": 22,
      "outputs": []
    },
    {
      "cell_type": "code",
      "metadata": {
        "id": "AN7sEOcMYC4P",
        "pycharm": {
          "name": "#%%\n"
        },
        "colab": {
          "base_uri": "https://localhost:8080/",
          "height": 441
        },
        "outputId": "f3b45d31-283f-4518-e79c-52307ffba63d"
      },
      "source": [
        "# Call your bootstrap function and plot the results\n",
        "\n",
        "boots = []\n",
        "for i in range(100, 50000, 1000):\n",
        "    boot = bootstrap_mean(data, data.shape[0], i)\n",
        "    boots.append([i, boot[0], \"mean\"])\n",
        "    boots.append([i, boot[1], \"lower\"])\n",
        "    boots.append([i, boot[2], \"upper\"])\n",
        "\n",
        "df_boot = pd.DataFrame(boots, columns=['Bootstrap Iterations', 'Mean', \"Value\"])\n",
        "sns_plot = sns.lmplot(df_boot.columns[0], df_boot.columns[1], data=df_boot, fit_reg=False, hue=\"Value\")\n",
        "\n",
        "sns_plot.axes[0, 0].set_ylim(0,)\n",
        "sns_plot.axes[0, 0].set_xlim(0, 50000)\n"
      ],
      "execution_count": 23,
      "outputs": [
        {
          "output_type": "stream",
          "name": "stderr",
          "text": [
            "/usr/local/lib/python3.7/dist-packages/seaborn/_decorators.py:43: FutureWarning: Pass the following variables as keyword args: x, y. From version 0.12, the only valid positional argument will be `data`, and passing other arguments without an explicit keyword will result in an error or misinterpretation.\n",
            "  FutureWarning\n"
          ]
        },
        {
          "output_type": "execute_result",
          "data": {
            "text/plain": [
              "(0.0, 50000.0)"
            ]
          },
          "metadata": {},
          "execution_count": 23
        },
        {
          "output_type": "display_data",
          "data": {
            "text/plain": [
              "<Figure size 425.125x360 with 1 Axes>"
            ],
            "image/png": "[encoded data removed]"
          },
          "metadata": {
            "needs_background": "light"
          }
        }
      ]
    },
    {
      "cell_type": "markdown",
      "metadata": {
        "id": "MjtP4e2_YC4V"
      },
      "source": [
        "\n",
        "Now, modify the bootstrap function you created above so that you can pass your desired confidence interval as a parameter.\n",
        "\n"
      ]
    },
    {
      "cell_type": "code",
      "metadata": {
        "id": "3K9j0FuGYhHs"
      },
      "source": [
        "#     d_mean_arr = d_array.mean(axis = 1, skipna = True)\n",
        "def bootstrap_mean_ci(sample, sample_size, n_bootstraps, ci):\n",
        "\t# <---INSERT YOUR CODE HERE--->\n",
        "    d_array = np.random.choice(sample,size=(n_bootstraps,sample_size))\n",
        "    d_mean_arr = np.nanmean(d_array, axis=1)\n",
        "    d_mean_arr_sort = np.sort(d_mean_arr)\n",
        "    data_mean = np.mean(d_mean_arr_sort)\n",
        "    lower_ci = (100-ci)/2\n",
        "    upper_ci = 100-lower_ci\n",
        "    lower = np.percentile(d_mean_arr_sort, lower_ci)\n",
        "    upper = np.percentile(d_mean_arr_sort, upper_ci)\n",
        "    return data_mean, lower, upper"
      ],
      "execution_count": 25,
      "outputs": []
    },
    {
      "cell_type": "code",
      "source": [
        "def bootstrap_sd_ci(sample, sample_size, n_bootstraps, ci):\n",
        "\t# <---INSERT YOUR CODE HERE--->\n",
        "    d_array = np.random.choice(sample,size=(n_bootstraps,sample_size))\n",
        "    d_std_arr = np.std(d_array, axis=1)\n",
        "    d_std_arr_sort = np.sort(d_std_arr)\n",
        "    data_std = np.std(d_std_arr_sort)\n",
        "    lower_ci = (100-ci)/2\n",
        "    upper_ci = 100-lower_ci\n",
        "    lower = np.percentile(d_std_arr_sort, lower_ci)\n",
        "    upper = np.percentile(d_std_arr_sort, upper_ci)\n",
        "    return data_std, lower, upper"
      ],
      "metadata": {
        "id": "-mYFPNkXqO3x"
      },
      "execution_count": 26,
      "outputs": []
    },
    {
      "cell_type": "code",
      "metadata": {
        "id": "uDnjq08GYl-C",
        "colab": {
          "base_uri": "https://localhost:8080/",
          "height": 441
        },
        "outputId": "0e38afde-0ff1-49f3-8c1a-9c3daf01b093"
      },
      "source": [
        "boots = []\n",
        "for i in range(100, 50000, 1000):\n",
        "    boot = bootstrap_mean_ci(data, data.shape[0], i, 80)\n",
        "    boots.append([i, boot[0], \"mean\"])\n",
        "    boots.append([i, boot[1], \"lower\"])\n",
        "    boots.append([i, boot[2], \"upper\"])\n",
        "\n",
        "df_boot = pd.DataFrame(boots, columns=['Boostrap Iterations', 'Mean', \"Value\"])\n",
        "sns_plot = sns.lmplot(df_boot.columns[0], df_boot.columns[1], data=df_boot, fit_reg=False, hue=\"Value\")\n",
        "\n",
        "sns_plot.axes[0, 0].set_ylim(0,)\n",
        "sns_plot.axes[0, 0].set_xlim(0, 50000)\n",
        "\n",
        "#sns_plot.savefig(\"bootstrap_confidence_80.pdf\", bbox_inches='tight')\n"
      ],
      "execution_count": 27,
      "outputs": [
        {
          "output_type": "stream",
          "name": "stderr",
          "text": [
            "/usr/local/lib/python3.7/dist-packages/seaborn/_decorators.py:43: FutureWarning: Pass the following variables as keyword args: x, y. From version 0.12, the only valid positional argument will be `data`, and passing other arguments without an explicit keyword will result in an error or misinterpretation.\n",
            "  FutureWarning\n"
          ]
        },
        {
          "output_type": "execute_result",
          "data": {
            "text/plain": [
              "(0.0, 50000.0)"
            ]
          },
          "metadata": {},
          "execution_count": 27
        },
        {
          "output_type": "display_data",
          "data": {
            "text/plain": [
              "<Figure size 425.125x360 with 1 Axes>"
            ],
            "image/png": "[encoded data removed]"
          },
          "metadata": {
            "needs_background": "light"
          }
        }
      ]
    },
    {
      "cell_type": "markdown",
      "metadata": {
        "id": "qjNgXW6wdd7r"
      },
      "source": [
        "# Vehicles dataset\n",
        "\n",
        "Now let's work on a different dataset, which is stored in the vehicles.csv file.\n"
      ]
    },
    {
      "cell_type": "code",
      "metadata": {
        "id": "avWv4ipFdpka",
        "colab": {
          "base_uri": "https://localhost:8080/",
          "height": 828
        },
        "outputId": "7d74bc14-8950-4d5a-8c1c-fbe9f6b89da4"
      },
      "source": [
        "# Load and visualise the vehicles dataset\n",
        "# To load the dataset: https://neptune.ai/blog/google-colab-dealing-with-files (check section \"Load individual files directly from GitHub\")\n",
        "df_vehicles = pd.read_csv('https://raw.githubusercontent.com/albanda/CE888/master/lab2%20-%20bootstrap/vehicles.csv')\n",
        "df_vehicles.insert(0, 'Car_ID', range(1, 1 + len(df_vehicles)))\n",
        "\n",
        "# Note that the current and new fleets are in different columns and have different lengths, so bear this in mind when you're plotting.\n",
        "# You can create separate scatterplots for the two fleets, as you would with the histograms, \n",
        "# or plot them both in one plot (but not one against the other).\n",
        "# <---INSERT YOUR CODE HERE--->\n",
        "sns.lmplot(df_vehicles.columns[0], df_vehicles.columns[1], data=df_vehicles, fit_reg=False)\n",
        "sns.lmplot(df_vehicles.columns[0], df_vehicles.columns[2], data=df_vehicles, fit_reg=False)\n",
        "# Note: you can add more cells as needed to organise your code and your plots\n"
      ],
      "execution_count": 28,
      "outputs": [
        {
          "output_type": "stream",
          "name": "stderr",
          "text": [
            "/usr/local/lib/python3.7/dist-packages/seaborn/_decorators.py:43: FutureWarning: Pass the following variables as keyword args: x, y. From version 0.12, the only valid positional argument will be `data`, and passing other arguments without an explicit keyword will result in an error or misinterpretation.\n",
            "  FutureWarning\n",
            "/usr/local/lib/python3.7/dist-packages/seaborn/_decorators.py:43: FutureWarning: Pass the following variables as keyword args: x, y. From version 0.12, the only valid positional argument will be `data`, and passing other arguments without an explicit keyword will result in an error or misinterpretation.\n",
            "  FutureWarning\n"
          ]
        },
        {
          "output_type": "execute_result",
          "data": {
            "text/plain": [
              "<seaborn.axisgrid.FacetGrid at 0x7f76c2f00dd0>"
            ]
          },
          "metadata": {},
          "execution_count": 28
        },
        {
          "output_type": "display_data",
          "data": {
            "text/plain": [
              "<Figure size 360x360 with 1 Axes>"
            ],
            "image/png": "[encoded data removed]"
          },
          "metadata": {
            "needs_background": "light"
          }
        },
        {
          "output_type": "display_data",
          "data": {
            "text/plain": [
              "<Figure size 360x360 with 1 Axes>"
            ],
            "image/png": "[encoded data removed]"
          },
          "metadata": {
            "needs_background": "light"
          }
        }
      ]
    },
    {
      "cell_type": "markdown",
      "metadata": {
        "id": "B5d0tXDpIEj8"
      },
      "source": [
        "## Compare the two fleets\n",
        "\n",
        "The business analysts come up a comparison algorithm that requires the upper and lower bounds for the mean in order to say which fleet is better.\n",
        "1. Calculate the mean of both samples.\n",
        "2. Using the bootstrap function that you created:\n",
        "    - Construct the 95% CI of the mean of the current fleet.\n",
        "    - Construct the 95% CI of the mean of the new fleet.\n",
        "    - Are they comparable? (i.e., is one better than the other?) -- you can do this with a permutation test (check the lecture notes!)"
      ]
    },
    {
      "cell_type": "code",
      "metadata": {
        "id": "po4mp6zRHC0m",
        "colab": {
          "base_uri": "https://localhost:8080/"
        },
        "outputId": "091ef897-e89a-4602-d68a-7c233d3902d0"
      },
      "source": [
        "# <---INSERT YOUR CODE HERE--->\n",
        "# 1. Calculate the mean of both samples.\n",
        "df_means = df_vehicles.mean(axis = 0, skipna = True)\n",
        "print(df_means)\n",
        "print(\"------\")\n",
        "# bootstrap_mean_ci(sample, sample_size, n_bootstraps, ci)\n",
        "data_mean_curr, lower_curr, upper_curr = bootstrap_mean_ci(df_vehicles.iloc[:,1], 15, 15, 95)\n",
        "print(data_mean_curr, lower_curr, upper_curr)\n",
        "print(\"------\")\n",
        "sample = df_vehicles.iloc[:,2].dropna()\n",
        "print(sample)\n",
        "data_mean_new, lower_new, upper_new = bootstrap_mean_ci(sample, 15, 10000, 80)\n",
        "print(data_mean_new, lower_new, upper_new)\n",
        "data_std_new, lower_new, upper_new = bootstrap_sd_ci(sample, 15, 10000, 99)\n",
        "print(data_std_new, lower_new, upper_new)\n"
      ],
      "execution_count": 29,
      "outputs": [
        {
          "output_type": "stream",
          "name": "stdout",
          "text": [
            "Car_ID           125.000000\n",
            "Current fleet     20.144578\n",
            "New Fleet         30.481013\n",
            "dtype: float64\n",
            "------\n",
            "19.78222222222222 16.92666666666667 22.043333333333333\n",
            "------\n",
            "0     24.0\n",
            "1     27.0\n",
            "2     27.0\n",
            "3     25.0\n",
            "4     31.0\n",
            "      ... \n",
            "74    34.0\n",
            "75    38.0\n",
            "76    32.0\n",
            "77    38.0\n",
            "78    32.0\n",
            "Name: New Fleet, Length: 79, dtype: float64\n",
            "30.491540000000004 28.533333333333335 32.53333333333333\n",
            "1.0535503231952192 3.1382868629973903 8.588374570107305\n"
          ]
        }
      ]
    },
    {
      "cell_type": "code",
      "metadata": {
        "id": "MkxvDZG4HC0n"
      },
      "source": [
        "# Create your own function for a permutation test here (you will need it for the lab quiz!):\n",
        "def permut_test(sample1, sample2, n_permutations):\n",
        "    \"\"\"\n",
        "    sample1: 1D array\n",
        "    sample2: 1D array (note that the size of the two arrays can be different)\n",
        "    n_permutations: number of permutations to calculate the p-value\n",
        "    \"\"\"\n",
        "    tobs = np.mean(sample2)-np.mean(sample1)\n",
        "\n",
        "    concat = np.concatenate((sample1, sample2))\n",
        "    count=0    \n",
        "    for i in range(n_permutations):\n",
        "        perm = np.random.permutation(concat)\n",
        "        pold = perm[:int(len(perm)/2)]\n",
        "        pnew = perm[int(len(perm)/2):]\n",
        "        tperm = np.mean(pnew)-np.mean(pold)\n",
        "        if tperm>tobs:\n",
        "            count+=1\n",
        "    pvalue = count/n_permutations\n",
        "    return pvalue"
      ],
      "execution_count": 33,
      "outputs": []
    },
    {
      "cell_type": "code",
      "source": [
        "current_old_data = df_vehicles.iloc[:,1]\n",
        "new_data = df_vehicles.iloc[:,2].dropna()\n",
        "\n",
        "# sample1 = [0,0,0,1,1,1,1,1,0,0,0]\n",
        "# sample2 = [1,1,1,1,1,1,1,1,1,0,0,0,0,1,0,1,0]\n",
        "\n",
        "pvalue = permut_test(current_old_data, new_data, 30000)\n",
        "print(pvalue)"
      ],
      "metadata": {
        "colab": {
          "base_uri": "https://localhost:8080/"
        },
        "id": "HaaHLFNHrVE6",
        "outputId": "bd93be9d-7676-4b75-a2e0-654985078e93"
      },
      "execution_count": 32,
      "outputs": [
        {
          "output_type": "stream",
          "name": "stdout",
          "text": [
            "0.0\n"
          ]
        }
      ]
    },
    {
      "cell_type": "code",
      "source": [
        "dem_share_PA = [60.08, 40.64, 36.07, 41.21, 31.04, 43.78, 44.08, 46.85, 44.71, 46.15, 63.10, 52.20, 43.18, 40.24, 39.92, 47.87, 37.77, 40.11, 49.85, 48.61, 38.62, 54.25, 34.84, 47.75, 43.82, 55.97, 58.23, 42.97, 42.38, 36.11, 37.53, 42.65, 50.96, 47.43, 56.24, 45.60, 46.39, 35.22, 48.56, 32.97, 57.88, 36.05, 37.72, 50.36, 32.12, 41.55, 54.66, 57.81, 54.58, 32.88, 54.37, 40.45, 47.61, 60.49, 43.11, 27.32, 44.03, 33.56, 37.26, 54.64, 43.12, 25.34, 49.79, 83.56, 40.09, 60.81, 49.81]\n",
        "dem_share_OH = [56.94, 50.46, 65.99, 45.88, 42.23, 45.26, 57.01, 53.61, 59.10, 61.48, 43.43, 44.69, 54.59, 48.36, 45.89, 48.62, 43.92, 38.23, 28.79, 63.57, 38.07, 40.18, 43.05, 41.56, 42.49, 36.06, 52.76, 46.07, 39.43, 39.26, 47.47, 27.92, 38.01, 45.45, 29.07, 28.94, 51.28, 50.10, 39.84, 36.43, 35.71, 31.47, 47.01, 40.10, 48.76, 31.56, 39.86, 45.31, 35.47, 51.38, 46.33, 48.73, 41.77, 41.32, 48.46, 53.14, 34.01, 54.74, 40.67, 38.96, 46.29, 38.25, 6.80, 31.75, 46.33, 44.90, 33.57, 38.10, 39.67, 40.47, 49.44, 37.62, 36.71, 46.73, 42.20, 53.16, 52.40, 58.36, 68.02, 38.53, 34.58, 69.64, 60.50, 53.53, 36.54, 49.58, 41.97, 38.11]\n",
        "\n",
        "print(len(dem_share_PA))\n",
        "print(len(dem_share_OH))\n",
        "\n",
        "data_mean_new, lower_new, upper_new = bootstrap_mean_ci(dem_share_OH, 15, 20000, 95)\n",
        "print(data_mean_new, lower_new, upper_new)\n",
        "\n",
        "data_mean_new, lower_new, upper_new = bootstrap_mean_ci(dem_share_PA, 15, 20000, 95)\n",
        "print(data_mean_new, lower_new, upper_new)\n",
        "\n",
        "pvalue = permut_test(dem_share_PA, dem_share_OH, 10000)\n",
        "print(pvalue)"
      ],
      "metadata": {
        "colab": {
          "base_uri": "https://localhost:8080/"
        },
        "id": "MQyLZsgUrt7m",
        "outputId": "1b9cf981-01fb-4231-c7e9-317645583da6"
      },
      "execution_count": 34,
      "outputs": [
        {
          "output_type": "stream",
          "name": "stdout",
          "text": [
            "67\n",
            "88\n",
            "44.30736986666667 39.28191666666667 49.24088333333331\n",
            "45.48773353333333 40.72461666666666 50.70078333333332\n",
            "0.7692\n"
          ]
        }
      ]
    },
    {
      "cell_type": "markdown",
      "source": [
        "QUIZ2"
      ],
      "metadata": {
        "id": "NZTpQA5Er0LB"
      }
    },
    {
      "cell_type": "code",
      "source": [
        "# 2.The 92% confidence interval for the mean of the old fleet in the vehicles dataset using 10000 iterations is (Answer, Answer). \n",
        "# Give your answer including the first two decimal points (e.g., 1.23).\n",
        "bootstrap_mean_ci(current_old_data,current_old_data.shape[0],10000,92)"
      ],
      "metadata": {
        "colab": {
          "base_uri": "https://localhost:8080/"
        },
        "id": "5wztaMvhr2js",
        "outputId": "b809c56e-83b9-4d66-d212-d78ea833996b"
      },
      "execution_count": 46,
      "outputs": [
        {
          "output_type": "execute_result",
          "data": {
            "text/plain": [
              "(20.145305220883532, 19.44176706827309, 20.85542168674699)"
            ]
          },
          "metadata": {},
          "execution_count": 46
        }
      ]
    },
    {
      "cell_type": "code",
      "source": [
        "# 3.The 80% confidence interval for the mean of the old fleet in the vehicles dataset using 10000 iterations is (Answer, Answer). \n",
        "# Give your answer including the first two decimal points (e.g., 1.23).\n",
        "bootstrap_mean_ci(current_old_data,current_old_data.shape[0],10000,80)"
      ],
      "metadata": {
        "colab": {
          "base_uri": "https://localhost:8080/"
        },
        "id": "iHrNPijDsu2d",
        "outputId": "d3686157-1f23-4bb6-9439-81a1cb7afe94"
      },
      "execution_count": 47,
      "outputs": [
        {
          "output_type": "execute_result",
          "data": {
            "text/plain": [
              "(20.136157429718875, 19.61847389558233, 20.65863453815261)"
            ]
          },
          "metadata": {},
          "execution_count": 47
        }
      ]
    },
    {
      "cell_type": "code",
      "source": [
        "# The 73% confidence interval for the standard deviation of the new fleet in the vehicles dataset using 10000 iterations (Give your answer including the first two decimal points (e.g., 1.23).\n",
        "print(bootstrap_std_ci(new_data,new_data.shape[0], 10000, 73))"
      ],
      "metadata": {
        "colab": {
          "base_uri": "https://localhost:8080/"
        },
        "id": "Mcigm0RgtxJ1",
        "outputId": "7c6a8584-d4f7-4188-e621-d98f31af9129"
      },
      "execution_count": 49,
      "outputs": [
        {
          "output_type": "stream",
          "name": "stdout",
          "text": [
            "(6.07414980916932, 5.521773771102371, 6.512840656225672)\n"
          ]
        }
      ]
    },
    {
      "cell_type": "code",
      "source": [
        "# 5.The 85% confidence interval for the standard deviation of the customers dataset using 10000 iterations is (Answer, Answer). \n",
        "# Give your answer including the first two decimal points (e.g., 1.23).\n",
        "bootstrap_sd_ci(all_data_customer,all_data_customer.shape[0],10000,85)\n",
        "# ans: 3.261557159094535, 6.955030480133917"
      ],
      "metadata": {
        "colab": {
          "base_uri": "https://localhost:8080/"
        },
        "id": "PeDGr0UzvIXk",
        "outputId": "0eefb0ab-597d-4336-c694-2864431344ef"
      },
      "execution_count": 52,
      "outputs": [
        {
          "output_type": "execute_result",
          "data": {
            "text/plain": [
              "(1.208646956913883, 3.270149469217028, 6.946221994724902)"
            ]
          },
          "metadata": {},
          "execution_count": 52
        }
      ]
    },
    {
      "cell_type": "code",
      "source": [
        "# 6.Assume that you are comparing the difference in means between two sets of data through a permutation test, which has given you a p value. \n",
        "# If the significance level has been fixed at 0.05, which of the following statements are true?\n",
        "# ans: \n",
        "# 6.1.If p > 0.1, there is no difference between the two sets of data.\n",
        "# 6.2.If p < 0.05, the two sets of data are statistically different.\n",
        "# 6.3.If p < 0.05, we reject the null hypothesis."
      ],
      "metadata": {
        "id": "f8wlyyqLxAxp"
      },
      "execution_count": null,
      "outputs": []
    },
    {
      "cell_type": "code",
      "source": [
        "# 7.1.Using the data from the vehicles.csv file:\n",
        "# We want to know whether the new fleet is better than the old one (i.e., if the difference in the means is positive).\n",
        "# The Null hypothesis is:\n",
        "# ans:There is no difference between the mean MPG between the old and the new fleet\n",
        "# 7.2.The alternative hypothesis is\n",
        "# The mean MPG in the new fleet is larger than the mean MPG for the old fleet\n",
        "permut_test(current_old_data, new_data, 30000)\n",
        "# 7.3. The p-value from a permutation test with 30000 permutations is Answer (give 3 decimal points, e.g., 0.456). Since this value is Answer\n",
        "#  0.01 (our significance level), we ...\n",
        "# ans: 0, <, Reject the Null hypothesis\n",
        "# 7.4.If an error had occurred in our inference above, what type of error would it be? \n",
        "# ans: Type I error"
      ],
      "metadata": {
        "id": "U28_EPERxbMe"
      },
      "execution_count": null,
      "outputs": []
    },
    {
      "cell_type": "code",
      "source": [
        "# 8.1.The data for this question is in voting_data.py.\n",
        "# The file contains data for the 2008 US presidential election results from the “swing states” of PA and OH, specifically, \n",
        "# the percentage of voters who voted for the Democrats within each county in a given state. There are Answer\n",
        "# values (i.e., states) in PA and Answer in OH.\n",
        "# print(len(dem_share_PA))\n",
        "# print(len(dem_share_OH))\n",
        "# ans: 67,88\n",
        "\n",
        "# 8.2.We want to know whether voters in PA were more likely than voters in OH to support the Democratic candidate.\n",
        "# The Null hypothesis is:\n",
        "# ans: There is no difference between the mean votes for PA and OH\n",
        "# The alternative hypothesis is\n",
        "# ans:The mean in PA voting is larger than the mean in OH voting\n",
        "\n",
        "\n",
        "\n",
        "# 8.3.The 95% confidence intervals for the means of the votes using 20000 bootstraps are (give two decimal values, e.g., 1.23):\n",
        "\n",
        "# For OH: (Answer, Answer)\n",
        "# bootstrap_mean_ci(dem_share_OH, np.shape(dem_share_OH)[0], 20000, 95)\n",
        "# ans: 42.25,46.35\n",
        "\n",
        "# For PA: (Answer, Answer)\n",
        "# bootstrap_mean_ci(dem_share_PA, np.shape(dem_share_PA)[0], 20000, 95)\n",
        "# ans: 43.17,47.86\n",
        "\n",
        "\n",
        "# 8.4.The p-value from a permutation test with 10000 permutations is Answer\n",
        "#  (give 3 decimal points, e.g., 0.456). Since this value is Answer\n",
        "#  0.05 (our significance level), we ...\n",
        "# permut_test(dem_share_OH, dem_share_PA, 30000)\n",
        "\n",
        "# ans: 0.236,Fail to reject the Null hypothesis,Type II error"
      ],
      "metadata": {
        "id": "_kTmb7lCySrz"
      },
      "execution_count": 40,
      "outputs": []
    },
    {
      "cell_type": "code",
      "source": [
        "bootstrap_mean_ci(dem_share_OH, np.shape(dem_share_OH)[0], 20000, 90)"
      ],
      "metadata": {
        "id": "LHbjZTz19oOV",
        "outputId": "a3ef90f6-e7de-4f84-e745-2c977ae789ab",
        "colab": {
          "base_uri": "https://localhost:8080/"
        }
      },
      "execution_count": 55,
      "outputs": [
        {
          "output_type": "execute_result",
          "data": {
            "text/plain": [
              "(44.32927389204545, 42.61086931818183, 46.06796022727273)"
            ]
          },
          "metadata": {},
          "execution_count": 55
        }
      ]
    },
    {
      "cell_type": "code",
      "source": [
        "bootstrap_mean_ci(dem_share_PA, np.shape(dem_share_PA)[0], 20000, 90)"
      ],
      "metadata": {
        "id": "yoKyjKMP9z3K",
        "outputId": "1ec96f67-9fd8-4261-b4dd-bb98a46ab680",
        "colab": {
          "base_uri": "https://localhost:8080/"
        }
      },
      "execution_count": 56,
      "outputs": [
        {
          "output_type": "execute_result",
          "data": {
            "text/plain": [
              "(45.47121867164179, 43.5598432835821, 47.47299253731343)"
            ]
          },
          "metadata": {},
          "execution_count": 56
        }
      ]
    },
    {
      "cell_type": "code",
      "source": [
        "permut_test(dem_share_OH, dem_share_PA, 20000)"
      ],
      "metadata": {
        "id": "BEShEPz1-a94",
        "outputId": "56338f02-c426-4fda-9a59-94650c16eeee",
        "colab": {
          "base_uri": "https://localhost:8080/"
        }
      },
      "execution_count": 57,
      "outputs": [
        {
          "output_type": "execute_result",
          "data": {
            "text/plain": [
              "0.23145"
            ]
          },
          "metadata": {},
          "execution_count": 57
        }
      ]
    }
  ]
}