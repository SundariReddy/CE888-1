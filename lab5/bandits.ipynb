{
  "nbformat": 4,
  "nbformat_minor": 0,
  "metadata": {
    "kernelspec": {
      "display_name": "Python 3",
      "language": "python",
      "name": "python3"
    },
    "language_info": {
      "codemirror_mode": {
        "name": "ipython",
        "version": 3
      },
      "file_extension": ".py",
      "mimetype": "text/x-python",
      "name": "python",
      "nbconvert_exporter": "python",
      "pygments_lexer": "ipython3",
      "version": "3.7.6"
    },
    "colab": {
      "name": "bandits.ipynb",
      "provenance": [],
      "include_colab_link": true
    }
  },
  "cells": [
    {
      "cell_type": "markdown",
      "metadata": {
        "id": "view-in-github",
        "colab_type": "text"
      },
      "source": [
        "<a href=\"https://colab.research.google.com/github/SundariReddy/CE888-1/blob/master/lab5/bandits.ipynb\" target=\"_parent\"><img src=\"https://colab.research.google.com/assets/colab-badge.svg\" alt=\"Open In Colab\"/></a>"
      ]
    },
    {
      "cell_type": "code",
      "metadata": {
        "id": "G_ohAqyeAWh5"
      },
      "source": [
        "import numpy as np\n",
        "import matplotlib.pyplot as plt"
      ],
      "execution_count": 1,
      "outputs": []
    },
    {
      "cell_type": "code",
      "metadata": {
        "id": "NyfMa-ZzAWia"
      },
      "source": [
        "# Define our actions\n",
        "\n",
        "def action_0():\n",
        "    return np.random.choice([1, 0], p=[0.5, 0.5])\n",
        "\n",
        "def action_1():\n",
        "    return np.random.choice([1, 0], p=[0.6, 0.4])\n",
        "\n",
        "def action_2():\n",
        "    return np.random.choice([1, 0], p=[0.2, 0.8])\n",
        "\n",
        "rewards = [action_0, action_1, action_2]"
      ],
      "execution_count": 2,
      "outputs": []
    },
    {
      "cell_type": "code",
      "metadata": {
        "colab": {
          "base_uri": "https://localhost:8080/"
        },
        "id": "8OMYEfKiAWig",
        "outputId": "b93903a3-6f9a-4c6f-fc83-afe91889a206"
      },
      "source": [
        "for i in range(10):\n",
        "    print('Pull %d (action_0): reward=%d' % (i, rewards[0]()))"
      ],
      "execution_count": 3,
      "outputs": [
        {
          "output_type": "stream",
          "name": "stdout",
          "text": [
            "Pull 0 (action_0): reward=1\n",
            "Pull 1 (action_0): reward=1\n",
            "Pull 2 (action_0): reward=1\n",
            "Pull 3 (action_0): reward=1\n",
            "Pull 4 (action_0): reward=0\n",
            "Pull 5 (action_0): reward=1\n",
            "Pull 6 (action_0): reward=0\n",
            "Pull 7 (action_0): reward=1\n",
            "Pull 8 (action_0): reward=1\n",
            "Pull 9 (action_0): reward=1\n"
          ]
        }
      ]
    },
    {
      "cell_type": "code",
      "metadata": {
        "colab": {
          "base_uri": "https://localhost:8080/"
        },
        "id": "VVjefuf9AWip",
        "outputId": "9bc68760-c066-43b4-c683-cdf975eba07d"
      },
      "source": [
        "# Simulate action values (Q): expected reward for each action\n",
        "pulls = 100000\n",
        "\n",
        "action_values = []\n",
        "for reward in rewards:\n",
        "    value = [reward() for _ in range(pulls)]  # execute each of the actions 'pulls' times\n",
        "    action_values.append(value)\n",
        "\n",
        "for action, value in enumerate(action_values):\n",
        "    print(\"Action %d: Q(a_%d)=%.2f\" % (action, action, np.mean(value)))"
      ],
      "execution_count": 4,
      "outputs": [
        {
          "output_type": "stream",
          "name": "stdout",
          "text": [
            "Action 0: Q(a_0)=0.50\n",
            "Action 1: Q(a_1)=0.60\n",
            "Action 2: Q(a_2)=0.20\n"
          ]
        }
      ]
    },
    {
      "cell_type": "code",
      "metadata": {
        "id": "6wY2EchRAWiu"
      },
      "source": [
        "# To simulate the values (V), we need to define a policy\n",
        "# (Value is the expected reward given the policy I'm following)\n",
        "\n",
        "# Define a policy:\n",
        "def policy_random():\n",
        "    '''Returns which action to perform using equal probabilities for each action'''\n",
        "    return np.random.choice([0, 1, 2], p=[1/3, 1/3, 1/3])\n",
        "\n",
        "\n",
        "def policy_better():\n",
        "    ''' A better policy than random: we choose actions 0 and 1 more often than action 2'''\n",
        "    return np.random.choice([0, 1, 2], p=[0.4, 0.5, 0.1])\n"
      ],
      "execution_count": 5,
      "outputs": []
    },
    {
      "cell_type": "code",
      "metadata": {
        "colab": {
          "base_uri": "https://localhost:8080/"
        },
        "id": "Qn70-2BnAWiy",
        "outputId": "ce3ec257-84eb-4903-9088-80e90be48b30"
      },
      "source": [
        "# Simulate Values using the random policy\n",
        "total_reward = 0\n",
        "for pull in range(pulls):\n",
        "    action = policy_random()\n",
        "    total_reward += rewards[action]()\n",
        "print(\"Total reward =\", total_reward)\n",
        "print(\"Average reward: V =\", total_reward/pulls)"
      ],
      "execution_count": 6,
      "outputs": [
        {
          "output_type": "stream",
          "name": "stdout",
          "text": [
            "Total reward = 43129\n",
            "Average reward: V = 0.43129\n"
          ]
        }
      ]
    },
    {
      "cell_type": "code",
      "metadata": {
        "colab": {
          "base_uri": "https://localhost:8080/"
        },
        "id": "_-6gLUeWAWi3",
        "outputId": "c5846242-9218-406a-a95c-11f10734f65f"
      },
      "source": [
        "# Simulate Values using the better policy\n",
        "total_reward = 0\n",
        "for pull in range(pulls):\n",
        "    action = policy_better()\n",
        "    total_reward += rewards[action]()\n",
        "print(\"Total reward =\", total_reward)\n",
        "print(\"Average reward: V =\", total_reward/pulls)"
      ],
      "execution_count": 7,
      "outputs": [
        {
          "output_type": "stream",
          "name": "stdout",
          "text": [
            "Total reward = 52183\n",
            "Average reward: V = 0.52183\n"
          ]
        }
      ]
    },
    {
      "cell_type": "code",
      "metadata": {
        "colab": {
          "base_uri": "https://localhost:8080/"
        },
        "id": "vML7aYcDAWi6",
        "outputId": "445edad6-039f-4cf9-bd71-44720549426b"
      },
      "source": [
        "# Regret of the better policy\n",
        "V_star = max([np.mean(value) for value in action_values])\n",
        "print(\"V* =\", V_star)\n",
        "\n",
        "total_regret = 0\n",
        "for pull in range(pulls):\n",
        "    total_regret += (V_star - rewards[policy_better()]())\n",
        "print('Regret: I_t = %.2f' % (total_regret/pulls))"
      ],
      "execution_count": 8,
      "outputs": [
        {
          "output_type": "stream",
          "name": "stdout",
          "text": [
            "V* = 0.59981\n",
            "Regret: I_t = 0.08\n"
          ]
        }
      ]
    },
    {
      "cell_type": "code",
      "metadata": {
        "id": "pkhEOOz8AWi_"
      },
      "source": [
        "# Some bandit policies to explore:\n",
        "\n",
        "def policy_greedy(action_values):\n",
        "    '''Always returns the action for which the payoff is highest'''\n",
        "    best_action = np.argmax([np.mean(value) for value in action_values])\n",
        "    return best_action\n",
        "\n",
        "\n",
        "def policy_e_greedy(action_values, epsilon=0.05):\n",
        "    '''We explore with epsilon probability, and choose the best action the rest of the time'''\n",
        "    explore = np.random.choice([1, 0], p=[epsilon, 1-epsilon])\n",
        "    if explore:\n",
        "        # Random action\n",
        "        return policy_random()\n",
        "    else:\n",
        "        # Choose best action\n",
        "        return policy_greedy(action_values)\n",
        "\n"
      ],
      "execution_count": 9,
      "outputs": []
    },
    {
      "cell_type": "code",
      "metadata": {
        "id": "wyGqo1sTAWjC"
      },
      "source": [
        "# Implementing the decaying epsilon-greedy properly requires a class definition so we can store the epsilon values\n",
        "class DecayingEGreedy:\n",
        "    \n",
        "    def __init__(self, epsilon, decay=0.99, lower_bound=0):\n",
        "        self.epsilon = epsilon\n",
        "        self.decay = decay\n",
        "        self.lower_bound = lower_bound\n",
        "        \n",
        "    def policy(self, action_values):\n",
        "        if self.lower_bound > 0 and self.epsilon > self.lower_bound:\n",
        "            self.epsilon *= self.decay  # update epsilon\n",
        "        explore = np.random.choice([1, 0], p=[self.epsilon, 1-self.epsilon])  # explore vs exploit decision\n",
        "        if explore:\n",
        "            # Random action\n",
        "            return policy_random()\n",
        "        else:\n",
        "            # Choose best action\n",
        "            return policy_greedy(action_values)\n"
      ],
      "execution_count": 10,
      "outputs": []
    },
    {
      "cell_type": "code",
      "metadata": {
        "scrolled": true,
        "id": "fT5ZzbfZAWjE",
        "outputId": "78f448c8-ceb4-4b5b-e22c-000235a805f2",
        "colab": {
          "base_uri": "https://localhost:8080/"
        }
      },
      "source": [
        "# Let's test the decaying epsilon-greedy approach\n",
        "agent = DecayingEGreedy(epsilon=0.1, decay=0.99, lower_bound=0.03)\n",
        "\n",
        "# Full problem:\n",
        "action_values = [[], [], []] # initialise values\n",
        "rewards_decaying_e_greedy = []\n",
        "total_reward = 0\n",
        "print('Number of pulls\\t\\tTotal reward\\t\\tV')\n",
        "for pull in range(pulls):\n",
        "    action = agent.policy(action_values)  # choose action according to policy\n",
        "    reward = rewards[action]()  # get reward\n",
        "    action_values[action].append(reward)  # update action_values so we make better decisions down the line\n",
        "    total_reward += reward\n",
        "    if (pull+1) % 1000 == 0:\n",
        "        print('%d\\t\\t\\t%d\\t\\t\\t%.3f' % (pull+1, total_reward, total_reward/pull))\n",
        "        rewards_decaying_e_greedy.append(total_reward/pull)\n",
        "\n"
      ],
      "execution_count": 11,
      "outputs": [
        {
          "output_type": "stream",
          "name": "stdout",
          "text": [
            "Number of pulls\t\tTotal reward\t\tV\n",
            "1000\t\t\t574\t\t\t0.575\n"
          ]
        },
        {
          "output_type": "stream",
          "name": "stderr",
          "text": [
            "/usr/local/lib/python3.7/dist-packages/numpy/core/fromnumeric.py:3441: RuntimeWarning: Mean of empty slice.\n",
            "  out=out, **kwargs)\n",
            "/usr/local/lib/python3.7/dist-packages/numpy/core/_methods.py:189: RuntimeWarning: invalid value encountered in double_scalars\n",
            "  ret = ret.dtype.type(ret / rcount)\n"
          ]
        },
        {
          "output_type": "stream",
          "name": "stdout",
          "text": [
            "2000\t\t\t1160\t\t\t0.580\n",
            "3000\t\t\t1740\t\t\t0.580\n",
            "4000\t\t\t2352\t\t\t0.588\n",
            "5000\t\t\t2948\t\t\t0.590\n",
            "6000\t\t\t3533\t\t\t0.589\n",
            "7000\t\t\t4128\t\t\t0.590\n",
            "8000\t\t\t4724\t\t\t0.591\n",
            "9000\t\t\t5298\t\t\t0.589\n",
            "10000\t\t\t5899\t\t\t0.590\n",
            "11000\t\t\t6490\t\t\t0.590\n",
            "12000\t\t\t7080\t\t\t0.590\n",
            "13000\t\t\t7700\t\t\t0.592\n",
            "14000\t\t\t8272\t\t\t0.591\n",
            "15000\t\t\t8894\t\t\t0.593\n",
            "16000\t\t\t9479\t\t\t0.592\n",
            "17000\t\t\t10075\t\t\t0.593\n",
            "18000\t\t\t10671\t\t\t0.593\n",
            "19000\t\t\t11252\t\t\t0.592\n",
            "20000\t\t\t11863\t\t\t0.593\n",
            "21000\t\t\t12471\t\t\t0.594\n",
            "22000\t\t\t13052\t\t\t0.593\n",
            "23000\t\t\t13631\t\t\t0.593\n",
            "24000\t\t\t14235\t\t\t0.593\n",
            "25000\t\t\t14847\t\t\t0.594\n",
            "26000\t\t\t15466\t\t\t0.595\n",
            "27000\t\t\t16053\t\t\t0.595\n",
            "28000\t\t\t16637\t\t\t0.594\n",
            "29000\t\t\t17225\t\t\t0.594\n",
            "30000\t\t\t17794\t\t\t0.593\n",
            "31000\t\t\t18351\t\t\t0.592\n",
            "32000\t\t\t18955\t\t\t0.592\n",
            "33000\t\t\t19552\t\t\t0.593\n",
            "34000\t\t\t20174\t\t\t0.593\n",
            "35000\t\t\t20786\t\t\t0.594\n",
            "36000\t\t\t21380\t\t\t0.594\n",
            "37000\t\t\t21944\t\t\t0.593\n",
            "38000\t\t\t22540\t\t\t0.593\n",
            "39000\t\t\t23149\t\t\t0.594\n",
            "40000\t\t\t23756\t\t\t0.594\n",
            "41000\t\t\t24362\t\t\t0.594\n",
            "42000\t\t\t24966\t\t\t0.594\n",
            "43000\t\t\t25545\t\t\t0.594\n",
            "44000\t\t\t26142\t\t\t0.594\n",
            "45000\t\t\t26756\t\t\t0.595\n",
            "46000\t\t\t27358\t\t\t0.595\n",
            "47000\t\t\t27944\t\t\t0.595\n",
            "48000\t\t\t28546\t\t\t0.595\n",
            "49000\t\t\t29136\t\t\t0.595\n",
            "50000\t\t\t29741\t\t\t0.595\n",
            "51000\t\t\t30344\t\t\t0.595\n",
            "52000\t\t\t30953\t\t\t0.595\n",
            "53000\t\t\t31532\t\t\t0.595\n",
            "54000\t\t\t32119\t\t\t0.595\n",
            "55000\t\t\t32711\t\t\t0.595\n",
            "56000\t\t\t33313\t\t\t0.595\n",
            "57000\t\t\t33915\t\t\t0.595\n",
            "58000\t\t\t34493\t\t\t0.595\n",
            "59000\t\t\t35095\t\t\t0.595\n",
            "60000\t\t\t35709\t\t\t0.595\n",
            "61000\t\t\t36306\t\t\t0.595\n",
            "62000\t\t\t36911\t\t\t0.595\n",
            "63000\t\t\t37540\t\t\t0.596\n",
            "64000\t\t\t38129\t\t\t0.596\n",
            "65000\t\t\t38748\t\t\t0.596\n",
            "66000\t\t\t39324\t\t\t0.596\n",
            "67000\t\t\t39913\t\t\t0.596\n",
            "68000\t\t\t40516\t\t\t0.596\n",
            "69000\t\t\t41099\t\t\t0.596\n",
            "70000\t\t\t41714\t\t\t0.596\n",
            "71000\t\t\t42309\t\t\t0.596\n",
            "72000\t\t\t42903\t\t\t0.596\n",
            "73000\t\t\t43481\t\t\t0.596\n",
            "74000\t\t\t44048\t\t\t0.595\n",
            "75000\t\t\t44633\t\t\t0.595\n",
            "76000\t\t\t45249\t\t\t0.595\n",
            "77000\t\t\t45849\t\t\t0.595\n",
            "78000\t\t\t46439\t\t\t0.595\n",
            "79000\t\t\t47040\t\t\t0.595\n",
            "80000\t\t\t47632\t\t\t0.595\n",
            "81000\t\t\t48204\t\t\t0.595\n",
            "82000\t\t\t48809\t\t\t0.595\n",
            "83000\t\t\t49387\t\t\t0.595\n",
            "84000\t\t\t49973\t\t\t0.595\n",
            "85000\t\t\t50556\t\t\t0.595\n",
            "86000\t\t\t51152\t\t\t0.595\n",
            "87000\t\t\t51735\t\t\t0.595\n",
            "88000\t\t\t52305\t\t\t0.594\n",
            "89000\t\t\t52894\t\t\t0.594\n",
            "90000\t\t\t53466\t\t\t0.594\n",
            "91000\t\t\t54056\t\t\t0.594\n",
            "92000\t\t\t54655\t\t\t0.594\n",
            "93000\t\t\t55258\t\t\t0.594\n",
            "94000\t\t\t55839\t\t\t0.594\n",
            "95000\t\t\t56438\t\t\t0.594\n",
            "96000\t\t\t57028\t\t\t0.594\n",
            "97000\t\t\t57599\t\t\t0.594\n",
            "98000\t\t\t58192\t\t\t0.594\n",
            "99000\t\t\t58768\t\t\t0.594\n",
            "100000\t\t\t59366\t\t\t0.594\n"
          ]
        }
      ]
    },
    {
      "cell_type": "code",
      "metadata": {
        "id": "uLHnVY5AAWjL",
        "outputId": "be6948bd-a308-4c1a-c0a5-fd41b0728782",
        "colab": {
          "base_uri": "https://localhost:8080/",
          "height": 297
        }
      },
      "source": [
        "plt.plot(np.arange(1000, pulls+1, step=1000), rewards_decaying_e_greedy)\n",
        "plt.xlabel(\"Iterations\")\n",
        "plt.ylabel(\"Average reward (V)\")\n",
        "# The average reward is 0.594, which is very close to V* (0.6)!"
      ],
      "execution_count": 12,
      "outputs": [
        {
          "output_type": "execute_result",
          "data": {
            "text/plain": [
              "Text(0, 0.5, 'Average reward (V)')"
            ]
          },
          "metadata": {},
          "execution_count": 12
        },
        {
          "output_type": "display_data",
          "data": {
            "text/plain": [
              "<Figure size 432x288 with 1 Axes>"
            ],
            "image/png": "[encoded data removed]"
          },
          "metadata": {
            "needs_background": "light"
          }
        }
      ]
    },
    {
      "cell_type": "code",
      "metadata": {
        "id": "KeR_XuqUAWjO"
      },
      "source": [
        "# Implementing the decaying epsilon-greedy properly requires a class definition so we can store the epsilon values\n",
        "class UCB:\n",
        "    \n",
        "    def __init__(self, C=0.5, n_arms=3):\n",
        "        self.C = C\n",
        "        self.pulls = 0\n",
        "        self.counts = np.asarray([0] * n_arms)\n",
        "        \n",
        "    def update_counts(self, arm):\n",
        "        self.pulls += 1\n",
        "        self.counts[arm] += 1\n",
        "        \n",
        "    def policy(self, action_values):\n",
        "        action_values = np.asarray([np.mean(value) for value in action_values])\n",
        "        uncertainty = np.sqrt(np.log(self.pulls) / self.counts)\n",
        "        ucb = action_values + self.C * uncertainty\n",
        "        action = np.argmax(ucb)\n",
        "        self.update_counts(action)\n",
        "        return action\n"
      ],
      "execution_count": 13,
      "outputs": []
    },
    {
      "cell_type": "code",
      "metadata": {
        "scrolled": true,
        "id": "eRI6_3tCAWjP",
        "outputId": "4df3e75f-c9ff-4eb1-de5d-5d000367bf7f",
        "colab": {
          "base_uri": "https://localhost:8080/"
        }
      },
      "source": [
        "# Let's test the decaying epsilon-greedy approach\n",
        "agent = UCB(C=0.5)\n",
        "\n",
        "# Full problem:\n",
        "action_values = [[], [], []] # initialise values\n",
        "total_reward = 0 # reset reward\n",
        "rewards_ucb = []\n",
        "print('Number of pulls\\t\\tTotal reward\\t\\tV')\n",
        "for pull in range(pulls):\n",
        "    action = agent.policy(action_values)  # choose action according to policy\n",
        "    reward = rewards[action]()  # get reward\n",
        "    action_values[action].append(reward)  # update action_values so we make better decisions down the line\n",
        "    total_reward += reward\n",
        "    if (pull+1) % 1000 == 0:\n",
        "        print('%d\\t\\t\\t%d\\t\\t\\t%.3f' % (pull+1, total_reward, total_reward/pull))\n",
        "        rewards_ucb.append(total_reward/pull)\n"
      ],
      "execution_count": 14,
      "outputs": [
        {
          "output_type": "stream",
          "name": "stdout",
          "text": [
            "Number of pulls\t\tTotal reward\t\tV\n",
            "1000\t\t\t589\t\t\t0.590\n"
          ]
        },
        {
          "output_type": "stream",
          "name": "stderr",
          "text": [
            "/usr/local/lib/python3.7/dist-packages/numpy/core/fromnumeric.py:3441: RuntimeWarning: Mean of empty slice.\n",
            "  out=out, **kwargs)\n",
            "/usr/local/lib/python3.7/dist-packages/numpy/core/_methods.py:189: RuntimeWarning: invalid value encountered in double_scalars\n",
            "  ret = ret.dtype.type(ret / rcount)\n",
            "/usr/local/lib/python3.7/dist-packages/ipykernel_launcher.py:15: RuntimeWarning: divide by zero encountered in log\n",
            "  from ipykernel import kernelapp as app\n",
            "/usr/local/lib/python3.7/dist-packages/ipykernel_launcher.py:15: RuntimeWarning: invalid value encountered in sqrt\n",
            "  from ipykernel import kernelapp as app\n",
            "/usr/local/lib/python3.7/dist-packages/ipykernel_launcher.py:15: RuntimeWarning: invalid value encountered in true_divide\n",
            "  from ipykernel import kernelapp as app\n",
            "/usr/local/lib/python3.7/dist-packages/ipykernel_launcher.py:15: RuntimeWarning: divide by zero encountered in true_divide\n",
            "  from ipykernel import kernelapp as app\n"
          ]
        },
        {
          "output_type": "stream",
          "name": "stdout",
          "text": [
            "2000\t\t\t1179\t\t\t0.590\n",
            "3000\t\t\t1772\t\t\t0.591\n",
            "4000\t\t\t2350\t\t\t0.588\n",
            "5000\t\t\t2958\t\t\t0.592\n",
            "6000\t\t\t3547\t\t\t0.591\n",
            "7000\t\t\t4167\t\t\t0.595\n",
            "8000\t\t\t4774\t\t\t0.597\n",
            "9000\t\t\t5398\t\t\t0.600\n",
            "10000\t\t\t6008\t\t\t0.601\n",
            "11000\t\t\t6586\t\t\t0.599\n",
            "12000\t\t\t7166\t\t\t0.597\n",
            "13000\t\t\t7757\t\t\t0.597\n",
            "14000\t\t\t8341\t\t\t0.596\n",
            "15000\t\t\t8926\t\t\t0.595\n",
            "16000\t\t\t9527\t\t\t0.595\n",
            "17000\t\t\t10120\t\t\t0.595\n",
            "18000\t\t\t10704\t\t\t0.595\n",
            "19000\t\t\t11284\t\t\t0.594\n",
            "20000\t\t\t11882\t\t\t0.594\n",
            "21000\t\t\t12478\t\t\t0.594\n",
            "22000\t\t\t13062\t\t\t0.594\n",
            "23000\t\t\t13668\t\t\t0.594\n",
            "24000\t\t\t14282\t\t\t0.595\n",
            "25000\t\t\t14891\t\t\t0.596\n",
            "26000\t\t\t15492\t\t\t0.596\n",
            "27000\t\t\t16108\t\t\t0.597\n",
            "28000\t\t\t16711\t\t\t0.597\n",
            "29000\t\t\t17314\t\t\t0.597\n",
            "30000\t\t\t17924\t\t\t0.597\n",
            "31000\t\t\t18555\t\t\t0.599\n",
            "32000\t\t\t19170\t\t\t0.599\n",
            "33000\t\t\t19750\t\t\t0.599\n",
            "34000\t\t\t20340\t\t\t0.598\n",
            "35000\t\t\t20951\t\t\t0.599\n",
            "36000\t\t\t21526\t\t\t0.598\n",
            "37000\t\t\t22122\t\t\t0.598\n",
            "38000\t\t\t22740\t\t\t0.598\n",
            "39000\t\t\t23352\t\t\t0.599\n",
            "40000\t\t\t23959\t\t\t0.599\n",
            "41000\t\t\t24567\t\t\t0.599\n",
            "42000\t\t\t25126\t\t\t0.598\n",
            "43000\t\t\t25720\t\t\t0.598\n",
            "44000\t\t\t26294\t\t\t0.598\n",
            "45000\t\t\t26889\t\t\t0.598\n",
            "46000\t\t\t27469\t\t\t0.597\n",
            "47000\t\t\t28065\t\t\t0.597\n",
            "48000\t\t\t28664\t\t\t0.597\n",
            "49000\t\t\t29256\t\t\t0.597\n",
            "50000\t\t\t29858\t\t\t0.597\n",
            "51000\t\t\t30475\t\t\t0.598\n",
            "52000\t\t\t31063\t\t\t0.597\n",
            "53000\t\t\t31674\t\t\t0.598\n",
            "54000\t\t\t32255\t\t\t0.597\n",
            "55000\t\t\t32876\t\t\t0.598\n",
            "56000\t\t\t33483\t\t\t0.598\n",
            "57000\t\t\t34084\t\t\t0.598\n",
            "58000\t\t\t34691\t\t\t0.598\n",
            "59000\t\t\t35298\t\t\t0.598\n",
            "60000\t\t\t35899\t\t\t0.598\n",
            "61000\t\t\t36497\t\t\t0.598\n",
            "62000\t\t\t37108\t\t\t0.599\n",
            "63000\t\t\t37699\t\t\t0.598\n",
            "64000\t\t\t38289\t\t\t0.598\n",
            "65000\t\t\t38892\t\t\t0.598\n",
            "66000\t\t\t39479\t\t\t0.598\n",
            "67000\t\t\t40078\t\t\t0.598\n",
            "68000\t\t\t40677\t\t\t0.598\n",
            "69000\t\t\t41280\t\t\t0.598\n",
            "70000\t\t\t41886\t\t\t0.598\n",
            "71000\t\t\t42468\t\t\t0.598\n",
            "72000\t\t\t43059\t\t\t0.598\n",
            "73000\t\t\t43657\t\t\t0.598\n",
            "74000\t\t\t44275\t\t\t0.598\n",
            "75000\t\t\t44845\t\t\t0.598\n",
            "76000\t\t\t45479\t\t\t0.598\n",
            "77000\t\t\t46091\t\t\t0.599\n",
            "78000\t\t\t46701\t\t\t0.599\n",
            "79000\t\t\t47275\t\t\t0.598\n",
            "80000\t\t\t47860\t\t\t0.598\n",
            "81000\t\t\t48478\t\t\t0.599\n",
            "82000\t\t\t49066\t\t\t0.598\n",
            "83000\t\t\t49669\t\t\t0.598\n",
            "84000\t\t\t50295\t\t\t0.599\n",
            "85000\t\t\t50874\t\t\t0.599\n",
            "86000\t\t\t51474\t\t\t0.599\n",
            "87000\t\t\t52061\t\t\t0.598\n",
            "88000\t\t\t52663\t\t\t0.598\n",
            "89000\t\t\t53265\t\t\t0.598\n",
            "90000\t\t\t53870\t\t\t0.599\n",
            "91000\t\t\t54468\t\t\t0.599\n",
            "92000\t\t\t55088\t\t\t0.599\n",
            "93000\t\t\t55677\t\t\t0.599\n",
            "94000\t\t\t56282\t\t\t0.599\n",
            "95000\t\t\t56865\t\t\t0.599\n",
            "96000\t\t\t57460\t\t\t0.599\n",
            "97000\t\t\t58070\t\t\t0.599\n",
            "98000\t\t\t58664\t\t\t0.599\n",
            "99000\t\t\t59244\t\t\t0.598\n",
            "100000\t\t\t59832\t\t\t0.598\n"
          ]
        }
      ]
    },
    {
      "cell_type": "code",
      "metadata": {
        "id": "TT8pNLSlAWjR",
        "outputId": "34939662-4613-4c0d-dff0-b776e544c2c7",
        "colab": {
          "base_uri": "https://localhost:8080/",
          "height": 297
        }
      },
      "source": [
        "plt.plot(np.arange(1000, pulls+1, step=1000), rewards_ucb)\n",
        "plt.xlabel(\"Iterations\")\n",
        "plt.ylabel(\"Average reward (V)\")"
      ],
      "execution_count": 15,
      "outputs": [
        {
          "output_type": "execute_result",
          "data": {
            "text/plain": [
              "Text(0, 0.5, 'Average reward (V)')"
            ]
          },
          "metadata": {},
          "execution_count": 15
        },
        {
          "output_type": "display_data",
          "data": {
            "text/plain": [
              "<Figure size 432x288 with 1 Axes>"
            ],
            "image/png": "[encoded data removed]"
          },
          "metadata": {
            "needs_background": "light"
          }
        }
      ]
    },
    {
      "cell_type": "code",
      "metadata": {
        "id": "zgfnlMU6AWjT"
      },
      "source": [
        ""
      ],
      "execution_count": null,
      "outputs": []
    }
  ]
}